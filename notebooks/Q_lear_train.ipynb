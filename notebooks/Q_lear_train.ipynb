{
 "nbformat": 4,
 "nbformat_minor": 0,
 "metadata": {
  "colab": {
   "name": "Connect_4_AI",
   "provenance": [],
   "collapsed_sections": [],
   "machine_shape": "hm"
  },
  "kernelspec": {
   "name": "python3",
   "language": "python",
   "display_name": "Python 3"
  },
  "pycharm": {
   "stem_cell": {
    "cell_type": "raw",
    "source": [],
    "metadata": {
     "collapsed": false
    }
   }
  }
 },
 "cells": [
  {
   "cell_type": "code",
   "metadata": {
    "id": "t3f5Ed3sWAEK",
    "colab_type": "code",
    "colab": {},
    "pycharm": {
     "is_executing": false
    }
   },
   "source": [
    "from agent.q_learn import QLearnTrain, QLearn\n",
    "from agent.random_agent import RandomAgent\n",
    "from agent.min_max import MinMaxAgentWAlphaBeta\n",
    "from agent.monte_carlo import MonteCarlo\n",
    "from evaluator import AdvancedScore\n",
    "\n",
    "from matplotlib import pyplot as plt\n",
    "from time import time"
   ],
   "execution_count": 1,
   "outputs": []
  },
  {
   "cell_type": "code",
   "execution_count": 2,
   "outputs": [],
   "source": [
    "def plot_train_data(rounds, t, half):\n",
    "    x = [x for x in range(0, rounds, int(rounds/t.resolution))]\n",
    "    if half==1:\n",
    "        win = [x[0] for x in t.win_loose[:t.resolution]]\n",
    "        loose = [x[1] for x in t.win_loose[:t.resolution]]\n",
    "        draw = [x[2] for x in t.win_loose[:t.resolution]]\n",
    "        dist = [x[1]-x[0] for x in t.win_loose[:t.resolution]]\n",
    "    else:\n",
    "        win = [x[1] for x in t.win_loose[t.resolution:]]\n",
    "        loose = [x[0] for x in t.win_loose[t.resolution:]]\n",
    "        draw = [x[2] for x in t.win_loose[t.resolution:]]\n",
    "        dist = [x[0]-x[1] for x in t.win_loose[t.resolution:]]\n",
    "        \n",
    "    plt.plot(x, win, label='win')\n",
    "    plt.plot(x, loose, label='loose')\n",
    "    plt.plot(x, draw, label='draw')\n",
    "    plt.plot(x, dist, label='distance')\n",
    "    \n",
    "    plt.xlabel('piece')\n",
    "    plt.ylabel('Round')\n",
    "    \n",
    "    plt.legend()\n",
    "    plt.grid()\n",
    "    \n",
    "    plt.show()"
   ],
   "metadata": {
    "collapsed": false,
    "pycharm": {
     "name": "#%%\n",
     "is_executing": false
    }
   }
  },
  {
   "cell_type": "code",
   "metadata": {
    "id": "t2j7_WWUVwGa",
    "colab_type": "code",
    "outputId": "dbd1d6e1-2ff0-4e15-e359-d18e402031e2",
    "executionInfo": {
     "status": "ok",
     "timestamp": 1573448370494,
     "user_tz": -60,
     "elapsed": 16719920,
     "user": {
      "displayName": "Dávid Gracza",
      "photoUrl": "https://lh3.googleusercontent.com/a-/AAuE7mBIkLeuKmyHv1jBljaSHm8nyNo2s4WH1_hPVb-zIjM=s64",
      "userId": "08169020028020314851"
     }
    },
    "colab": {
     "base_uri": "https://localhost:8080/",
     "height": 765
    },
    "pycharm": {
     "is_executing": false
    }
   },
   "source": [
    "def train(against=None, rounds=10_000, name=''):\n",
    "    t = QLearnTrain()\n",
    "       \n",
    "    start_time = time()\n",
    "    t.learn(rounds, against=against, name=name)\n",
    "    print(f'time: {time() - start_time}s')\n",
    "    \n",
    "    plot_train_data(rounds,t,1)\n",
    "    if against is not None:\n",
    "        plot_train_data(rounds,t,2)"
   ],
   "execution_count": 3,
   "outputs": []
  },
  {
   "cell_type": "code",
   "metadata": {
    "id": "ftIONy-ilBKp",
    "colab_type": "code",
    "outputId": "ac73cee3-4019-4e53-c7d5-c7d421c02b0c",
    "executionInfo": {
     "status": "ok",
     "timestamp": 1573451112822,
     "user_tz": -60,
     "elapsed": 2742350,
     "user": {
      "displayName": "Dávid Gracza",
      "photoUrl": "https://lh3.googleusercontent.com/a-/AAuE7mBIkLeuKmyHv1jBljaSHm8nyNo2s4WH1_hPVb-zIjM=s64",
      "userId": "08169020028020314851"
     }
    },
    "colab": {
     "base_uri": "https://localhost:8080/",
     "height": 408
    },
    "pycharm": {
     "is_executing": false
    }
   },
   "source": [
    "train(RandomAgent,100)"
   ],
   "execution_count": 4,
   "outputs": [
    {
     "name": "stdout",
     "text": [
      "iteration: 0.\n",
      "iteration: 5.\n",
      "iteration: 10.\n",
      "iteration: 15.\n",
      "iteration: 20.\n",
      "iteration: 25.\n",
      "iteration: 30.\n",
      "iteration: 35.\n",
      "iteration: 40.\n",
      "iteration: 45.\n",
      "iteration: 50.\n",
      "iteration: 55.\n",
      "iteration: 60.\n",
      "iteration: 65.\n",
      "iteration: 70.\n",
      "iteration: 75.\n",
      "iteration: 80.\n",
      "iteration: 85.\n",
      "iteration: 90.\n",
      "iteration: 95.\n",
      "p1: 42, p2: 58, d: 0\n",
      "iteration: 0.\n",
      "iteration: 5.\n",
      "iteration: 10.\n",
      "iteration: 15.\n",
      "iteration: 20.\n",
      "iteration: 25.\n",
      "iteration: 30.\n",
      "iteration: 35.\n",
      "iteration: 40.\n",
      "iteration: 45.\n",
      "iteration: 50.\n",
      "iteration: 55.\n",
      "iteration: 60.\n",
      "iteration: 65.\n",
      "iteration: 70.\n",
      "iteration: 75.\n",
      "iteration: 80.\n",
      "iteration: 85.\n",
      "iteration: 90.\n",
      "iteration: 95.\n",
      "p1: 59, p2: 40, d: 1\n",
      "save model as: _20191211_005157\n",
      "time: 0.6924259662628174s\n"
     ],
     "output_type": "stream"
    },
    {
     "data": {
      "text/plain": "<Figure size 432x288 with 1 Axes>",
      "image/png": "[encoded data removed]"
     },
     "metadata": {
      "needs_background": "light"
     },
     "output_type": "display_data"
    },
    {
     "data": {
      "text/plain": "<Figure size 432x288 with 1 Axes>",
      "image/png": "[encoded data removed]"
     },
     "metadata": {
      "needs_background": "light"
     },
     "output_type": "display_data"
    }
   ]
  },
  {
   "cell_type": "code",
   "execution_count": null,
   "outputs": [
    {
     "name": "stdout",
     "text": [
      "iteration: 0.\n",
      "iteration: 5.\n",
      "iteration: 10.\n",
      "iteration: 15.\n",
      "iteration: 20.\n",
      "iteration: 25.\n",
      "iteration: 30.\n",
      "iteration: 35.\n",
      "iteration: 40.\n",
      "iteration: 45.\n",
      "iteration: 50.\n",
      "iteration: 55.\n",
      "iteration: 60.\n",
      "iteration: 65.\n",
      "iteration: 70.\n",
      "iteration: 75.\n",
      "iteration: 80.\n",
      "iteration: 85.\n",
      "iteration: 90.\n",
      "iteration: 95.\n",
      "p1: 0, p2: 100, d: 0\n",
      "iteration: 0.\n",
      "iteration: 5.\n",
      "iteration: 10.\n",
      "iteration: 15.\n",
      "iteration: 20.\n",
      "iteration: 25.\n",
      "iteration: 30.\n",
      "iteration: 35.\n",
      "iteration: 40.\n",
      "iteration: 45.\n",
      "iteration: 50.\n",
      "iteration: 55.\n",
      "iteration: 60.\n",
      "iteration: 65.\n",
      "iteration: 70.\n",
      "iteration: 75.\n",
      "iteration: 80.\n",
      "iteration: 85.\n"
     ],
     "output_type": "stream"
    }
   ],
   "source": [
    "adv = AdvancedScore()\n",
    "train(MinMaxAgentWAlphaBeta(5, adv.score),100)"
   ],
   "metadata": {
    "collapsed": false,
    "pycharm": {
     "name": "#%%\n",
     "is_executing": true
    }
   }
  },
  {
   "cell_type": "code",
   "execution_count": null,
   "outputs": [],
   "source": [
    "train(MonteCarlo(4000),100)"
   ],
   "metadata": {
    "collapsed": false,
    "pycharm": {
     "name": "#%%\n",
     "is_executing": true
    }
   }
  },
  {
   "cell_type": "code",
   "execution_count": null,
   "outputs": [],
   "source": [
    "train(rounds=100)"
   ],
   "metadata": {
    "collapsed": false,
    "pycharm": {
     "name": "#%%\n",
     "is_executing": true
    }
   }
  }
 ]
}